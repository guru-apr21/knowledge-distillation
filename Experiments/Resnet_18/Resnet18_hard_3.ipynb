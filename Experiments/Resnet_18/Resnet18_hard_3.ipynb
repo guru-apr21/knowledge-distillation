{
  "nbformat": 4,
  "nbformat_minor": 0,
  "metadata": {
    "colab": {
      "provenance": [],
      "gpuType": "V100"
    },
    "kernelspec": {
      "name": "python3",
      "display_name": "Python 3"
    },
    "language_info": {
      "name": "python"
    },
    "accelerator": "GPU"
  },
  "cells": [
    {
      "cell_type": "code",
      "source": [
        "pip install tensorboardX"
      ],
      "metadata": {
        "colab": {
          "base_uri": "https://localhost:8080/"
        },
        "id": "LLWM64hBw6TV",
        "outputId": "01b6bb78-b757-4668-b286-9c70d5988bc5"
      },
      "execution_count": null,
      "outputs": [
        {
          "output_type": "stream",
          "name": "stdout",
          "text": [
            "Collecting tensorboardX\n",
            "  Downloading tensorboardX-2.6.2-py2.py3-none-any.whl (101 kB)\n",
            "\u001b[2K     \u001b[90m━━━━━━━━━━━━━━━━━━━━━━━━━━━━━━━━━━━━━━━\u001b[0m \u001b[32m101.6/101.6 kB\u001b[0m \u001b[31m2.7 MB/s\u001b[0m eta \u001b[36m0:00:00\u001b[0m\n",
            "\u001b[?25hRequirement already satisfied: numpy in /usr/local/lib/python3.10/dist-packages (from tensorboardX) (1.23.5)\n",
            "Requirement already satisfied: packaging in /usr/local/lib/python3.10/dist-packages (from tensorboardX) (23.1)\n",
            "Requirement already satisfied: protobuf in /usr/local/lib/python3.10/dist-packages (from tensorboardX) (3.20.3)\n",
            "Installing collected packages: tensorboardX\n",
            "Successfully installed tensorboardX-2.6.2\n"
          ]
        }
      ]
    },
    {
      "cell_type": "code",
      "execution_count": 1,
      "metadata": {
        "colab": {
          "base_uri": "https://localhost:8080/"
        },
        "id": "HttmlYLKwx_w",
        "outputId": "4c6f9dcb-d6fc-46e9-8f56-11157254b814"
      },
      "outputs": [
        {
          "output_type": "stream",
          "name": "stdout",
          "text": [
            "Mounted at /content/drive\n"
          ]
        }
      ],
      "source": [
        "from google.colab import drive\n",
        "drive.mount('/content/drive')"
      ]
    },
    {
      "cell_type": "code",
      "source": [
        "import os\n",
        "\n",
        "# Define directory path\n",
        "save_directory = '/content/drive/My Drive/MyModels/Resnet-18_hard/'\n",
        "\n",
        "# Check if directory exists. If not, create it.\n",
        "if not os.path.exists(save_directory):\n",
        "    os.makedirs(save_directory)"
      ],
      "metadata": {
        "id": "fE-DgoQsydPS"
      },
      "execution_count": 2,
      "outputs": []
    },
    {
      "cell_type": "code",
      "source": [
        "# Setup\n",
        "import torch\n",
        "import torch.nn as nn\n",
        "import torch.optim as optim\n",
        "import torchvision\n",
        "import torchvision.transforms as transforms\n",
        "import torchvision.models as models\n",
        "# from tensorboardX import SummaryWriter\n",
        "import numpy as np\n",
        "import matplotlib.pyplot as plt\n",
        "import torch.nn.functional as F"
      ],
      "metadata": {
        "id": "7ECweSv9w81e"
      },
      "execution_count": 3,
      "outputs": []
    },
    {
      "cell_type": "code",
      "source": [
        "# Ensure reproducibility by setting seeds\n",
        "torch.manual_seed(42)\n",
        "if torch.cuda.is_available():\n",
        "    torch.cuda.manual_seed_all(42)\n",
        "np.random.seed(42)"
      ],
      "metadata": {
        "id": "M3tfKX_aw99F"
      },
      "execution_count": 4,
      "outputs": []
    },
    {
      "cell_type": "code",
      "source": [
        "# Set up TensorBoard logging\n",
        "log_dir = './logs'\n",
        "writer = SummaryWriter(log_dir)\n",
        "\n",
        "%load_ext tensorboard\n",
        "%tensorboard --logdir ./logs"
      ],
      "metadata": {
        "colab": {
          "base_uri": "https://localhost:8080/",
          "height": 242
        },
        "id": "BxTkErEXw_5e",
        "outputId": "9f052f19-4510-4638-fe59-23cc4d7aa7ef"
      },
      "execution_count": 5,
      "outputs": [
        {
          "output_type": "error",
          "ename": "NameError",
          "evalue": "ignored",
          "traceback": [
            "\u001b[0;31m---------------------------------------------------------------------------\u001b[0m",
            "\u001b[0;31mNameError\u001b[0m                                 Traceback (most recent call last)",
            "\u001b[0;32m<ipython-input-5-6a41c647bf0f>\u001b[0m in \u001b[0;36m<cell line: 3>\u001b[0;34m()\u001b[0m\n\u001b[1;32m      1\u001b[0m \u001b[0;31m# Set up TensorBoard logging\u001b[0m\u001b[0;34m\u001b[0m\u001b[0;34m\u001b[0m\u001b[0m\n\u001b[1;32m      2\u001b[0m \u001b[0mlog_dir\u001b[0m \u001b[0;34m=\u001b[0m \u001b[0;34m'./logs'\u001b[0m\u001b[0;34m\u001b[0m\u001b[0;34m\u001b[0m\u001b[0m\n\u001b[0;32m----> 3\u001b[0;31m \u001b[0mwriter\u001b[0m \u001b[0;34m=\u001b[0m \u001b[0mSummaryWriter\u001b[0m\u001b[0;34m(\u001b[0m\u001b[0mlog_dir\u001b[0m\u001b[0;34m)\u001b[0m\u001b[0;34m\u001b[0m\u001b[0;34m\u001b[0m\u001b[0m\n\u001b[0m\u001b[1;32m      4\u001b[0m \u001b[0;34m\u001b[0m\u001b[0m\n\u001b[1;32m      5\u001b[0m \u001b[0mget_ipython\u001b[0m\u001b[0;34m(\u001b[0m\u001b[0;34m)\u001b[0m\u001b[0;34m.\u001b[0m\u001b[0mrun_line_magic\u001b[0m\u001b[0;34m(\u001b[0m\u001b[0;34m'load_ext'\u001b[0m\u001b[0;34m,\u001b[0m \u001b[0;34m'tensorboard'\u001b[0m\u001b[0;34m)\u001b[0m\u001b[0;34m\u001b[0m\u001b[0;34m\u001b[0m\u001b[0m\n",
            "\u001b[0;31mNameError\u001b[0m: name 'SummaryWriter' is not defined"
          ]
        }
      ]
    },
    {
      "cell_type": "code",
      "source": [
        "# Load CIFAR-10 training data without any transformations\n",
        "untransformed_trainset = torchvision.datasets.CIFAR10(root='./data', train=True, download=True, transform=transforms.ToTensor())\n",
        "\n",
        "# Compute mean and standard deviation\n",
        "channel_sum = torch.zeros(3)\n",
        "channel_squared_sum = torch.zeros(3)\n",
        "num_pixels = 0\n",
        "\n",
        "for data, _ in untransformed_trainset:\n",
        "    channel_sum += data.sum(dim=[1,2])\n",
        "    channel_squared_sum += (data**2).sum(dim=[1,2])\n",
        "    num_pixels += data.size(1) * data.size(2)\n",
        "\n",
        "mean = channel_sum / num_pixels\n",
        "std_dev = (channel_squared_sum/num_pixels - mean**2)**0.5\n",
        "\n",
        "print(\"Computed Mean:\", mean)\n",
        "print(\"Computed Std Dev:\", std_dev)"
      ],
      "metadata": {
        "colab": {
          "base_uri": "https://localhost:8080/"
        },
        "id": "KcTkun0G6gmR",
        "outputId": "4d552af8-d856-4a93-ea12-f6537514e294"
      },
      "execution_count": 6,
      "outputs": [
        {
          "output_type": "stream",
          "name": "stdout",
          "text": [
            "Downloading https://www.cs.toronto.edu/~kriz/cifar-10-python.tar.gz to ./data/cifar-10-python.tar.gz\n"
          ]
        },
        {
          "output_type": "stream",
          "name": "stderr",
          "text": [
            "100%|██████████| 170498071/170498071 [00:01<00:00, 103345971.38it/s]\n"
          ]
        },
        {
          "output_type": "stream",
          "name": "stdout",
          "text": [
            "Extracting ./data/cifar-10-python.tar.gz to ./data\n",
            "Computed Mean: tensor([0.4914, 0.4822, 0.4465])\n",
            "Computed Std Dev: tensor([0.2470, 0.2435, 0.2616])\n"
          ]
        }
      ]
    },
    {
      "cell_type": "code",
      "source": [
        "# Training data transformations\n",
        "train_transform = transforms.Compose(\n",
        "    [\n",
        "        transforms.ToTensor(),\n",
        "        transforms.Pad(4),\n",
        "        transforms.RandomHorizontalFlip(),\n",
        "        transforms.RandomRotation(15),\n",
        "        transforms.RandomCrop(32),\n",
        "        transforms.Normalize(mean, std_dev)\n",
        "    ]\n",
        ")\n",
        "\n",
        "# Validation data transformations\n",
        "val_transform = transforms.Compose(\n",
        "    [\n",
        "        transforms.ToTensor(),\n",
        "        transforms.Normalize(mean, std_dev)\n",
        "    ]\n",
        ")\n",
        "\n",
        "# Test data transformations\n",
        "test_transform = transforms.Compose(\n",
        "    [\n",
        "        transforms.ToTensor(),\n",
        "        transforms.Normalize(mean, std_dev)\n",
        "    ]\n",
        ")\n",
        "\n",
        "# First, load the full training data without any transformations\n",
        "full_trainset = torchvision.datasets.CIFAR10(root='./data', train=True, download=True, transform=transforms.ToTensor())\n",
        "\n",
        "# Apply transformations to the full dataset\n",
        "full_trainset.transform = train_transform\n",
        "\n",
        "# Get the indices for training and validation splits\n",
        "num_train = len(full_trainset)\n",
        "indices = list(range(num_train))\n",
        "np.random.shuffle(indices)\n",
        "split = int(np.floor(0.9 * num_train))\n",
        "train_idx, valid_idx = indices[:split], indices[split:]\n",
        "\n",
        "# Define samplers for the training and validation sets\n",
        "train_sampler = torch.utils.data.SubsetRandomSampler(train_idx)\n",
        "valid_sampler = torch.utils.data.SubsetRandomSampler(valid_idx)\n",
        "\n",
        "# Create data loaders using these samplers\n",
        "trainloader = torch.utils.data.DataLoader(full_trainset, batch_size=300, sampler=train_sampler, num_workers=2)\n",
        "valloader = torch.utils.data.DataLoader(full_trainset, batch_size=300, sampler=valid_sampler, num_workers=2)\n",
        "\n",
        "# Loading and creating data loader for test set\n",
        "testset = torchvision.datasets.CIFAR10(root='./data', train=False, download=True, transform=test_transform)\n",
        "testloader = torch.utils.data.DataLoader(testset, batch_size=300, shuffle=False, num_workers=2)"
      ],
      "metadata": {
        "colab": {
          "base_uri": "https://localhost:8080/"
        },
        "id": "9V_OtXs7xCAu",
        "outputId": "290291e2-bf31-42a9-a697-44bb4406b24f"
      },
      "execution_count": 7,
      "outputs": [
        {
          "output_type": "stream",
          "name": "stdout",
          "text": [
            "Files already downloaded and verified\n",
            "Files already downloaded and verified\n"
          ]
        }
      ]
    },
    {
      "cell_type": "code",
      "source": [
        "# Device Setup\n",
        "device = torch.device(\"cuda:0\" if torch.cuda.is_available() else \"cpu\")\n",
        "\n",
        "# Model Definition\n",
        "class CIFAR10ResNet18(nn.Module):\n",
        "    def __init__(self, num_classes=10):\n",
        "        super(CIFAR10ResNet18, self).__init__()\n",
        "        self.resnet = models.resnet18(pretrained=False)\n",
        "        self.resnet.conv1 = nn.Conv2d(3, 64, kernel_size=3, stride=1, padding=1, bias=False)\n",
        "        self.resnet.fc = nn.Linear(self.resnet.fc.in_features, num_classes)\n",
        "\n",
        "    def forward(self, x):\n",
        "        return self.resnet(x)\n",
        "\n",
        "model = CIFAR10ResNet18().to(device)"
      ],
      "metadata": {
        "colab": {
          "base_uri": "https://localhost:8080/"
        },
        "id": "CYl0a8HxyY71",
        "outputId": "f15293b6-b955-4dbb-c2e5-c515577bcb1a"
      },
      "execution_count": 8,
      "outputs": [
        {
          "output_type": "stream",
          "name": "stderr",
          "text": [
            "/usr/local/lib/python3.10/dist-packages/torchvision/models/_utils.py:208: UserWarning: The parameter 'pretrained' is deprecated since 0.13 and may be removed in the future, please use 'weights' instead.\n",
            "  warnings.warn(\n",
            "/usr/local/lib/python3.10/dist-packages/torchvision/models/_utils.py:223: UserWarning: Arguments other than a weight enum or `None` for 'weights' are deprecated since 0.13 and may be removed in the future. The current behavior is equivalent to passing `weights=None`.\n",
            "  warnings.warn(msg)\n"
          ]
        }
      ]
    },
    {
      "cell_type": "code",
      "source": [
        "# Training Loop\n",
        "criterion = nn.CrossEntropyLoss()\n",
        "optimizer = optim.Adam(model.parameters(), lr=0.001, weight_decay=1e-4)\n",
        "scheduler = optim.lr_scheduler.ReduceLROnPlateau(optimizer, 'min', patience=5, factor=0.2, verbose=True)\n",
        "best_val_accuracy = 0.0\n",
        "\n",
        "# Lists to store metrics for each epoch\n",
        "train_losses = []\n",
        "val_losses = []\n",
        "\n",
        "print(\"Starting Training...\\n\")\n",
        "\n",
        "# Early stopping parameters\n",
        "patience = 10  # Number of epochs with no improvement to wait before stopping\n",
        "epochs_no_improve = 0\n",
        "best_val_loss = float('inf')\n",
        "\n",
        "num_epochs = 100\n",
        "for epoch in range(num_epochs):\n",
        "    # Training Phase\n",
        "    model.train()\n",
        "    running_loss = 0.0\n",
        "    for i, data in enumerate(trainloader, 0):\n",
        "        inputs, labels = data[0].to(device), data[1].to(device)\n",
        "\n",
        "        optimizer.zero_grad()\n",
        "        outputs = model(inputs)\n",
        "        loss = criterion(outputs, labels)\n",
        "        loss.backward()\n",
        "        optimizer.step()\n",
        "\n",
        "        running_loss += loss.item()\n",
        "\n",
        "    avg_train_loss = running_loss / len(trainloader)\n",
        "    writer.add_scalar('Loss/train', avg_train_loss, epoch)\n",
        "    train_losses.append(avg_train_loss)\n",
        "\n",
        "\n",
        "    # Validation Phase\n",
        "    model.eval()\n",
        "    val_loss = 0.0\n",
        "    correct = 0\n",
        "    total = 0\n",
        "    with torch.no_grad():\n",
        "        for data in valloader:\n",
        "            images, labels = data[0].to(device), data[1].to(device)\n",
        "            outputs = model(images)\n",
        "            loss = criterion(outputs, labels)\n",
        "            val_loss += loss.item()\n",
        "\n",
        "            _, predicted = torch.max(outputs.data, 1)\n",
        "            total += labels.size(0)\n",
        "            correct += (predicted == labels).sum().item()\n",
        "\n",
        "    avg_val_loss = val_loss / len(valloader)\n",
        "    val_accuracy = 100 * correct / total\n",
        "\n",
        "    print(f\"Epoch [{epoch + 1}/{num_epochs}] - Training Loss: {avg_train_loss:.4f} - Validation Loss: {avg_val_loss:.4f} - Validation Accuracy: {val_accuracy:.2f}%\")\n",
        "    writer.add_scalar('Loss/validation', avg_val_loss, epoch)\n",
        "    writer.add_scalar('Accuracy/validation', val_accuracy, epoch)\n",
        "    val_losses.append(avg_val_loss)\n",
        "\n",
        "    # Update the scheduler based on the validation loss\n",
        "    scheduler.step(avg_val_loss)\n",
        "\n",
        "    if val_accuracy > best_val_accuracy:\n",
        "        best_val_accuracy = val_accuracy\n",
        "        model_save_path = os.path.join(save_directory, 'retrain_resnet18.pth')\n",
        "        torch.save(model.state_dict(), model_save_path)\n",
        "        print(f\"New best validation accuracy ({val_accuracy:.2f}%) achieved and model saved!\")\n",
        "\n",
        "    # Check for early stopping\n",
        "    if avg_val_loss < best_val_loss:\n",
        "        epochs_no_improve = 0\n",
        "        best_val_loss = avg_val_loss\n",
        "    else:\n",
        "        epochs_no_improve += 1\n",
        "        if epochs_no_improve == patience:\n",
        "            print(\"Early stopping!\")\n",
        "            break\n",
        "\n",
        "\n",
        "print(\"\\nTraining Complete!\\n\")\n",
        "\n",
        "# Close the writer when done\n",
        "writer.close()"
      ],
      "metadata": {
        "colab": {
          "base_uri": "https://localhost:8080/"
        },
        "id": "-bmpbVmEyo6c",
        "outputId": "27312516-9f85-42f6-c7a7-3a033e32847f"
      },
      "execution_count": null,
      "outputs": [
        {
          "output_type": "stream",
          "name": "stdout",
          "text": [
            "Starting Training...\n",
            "\n",
            "Epoch [1/100] - Training Loss: 1.4798 - Validation Loss: 1.4867 - Validation Accuracy: 47.74%\n",
            "New best validation accuracy (47.74%) achieved and model saved!\n",
            "Epoch [2/100] - Training Loss: 1.1150 - Validation Loss: 1.2571 - Validation Accuracy: 57.18%\n",
            "New best validation accuracy (57.18%) achieved and model saved!\n",
            "Epoch [3/100] - Training Loss: 0.9551 - Validation Loss: 0.9197 - Validation Accuracy: 67.20%\n",
            "New best validation accuracy (67.20%) achieved and model saved!\n",
            "Epoch [4/100] - Training Loss: 0.8426 - Validation Loss: 0.8936 - Validation Accuracy: 67.90%\n",
            "New best validation accuracy (67.90%) achieved and model saved!\n",
            "Epoch [5/100] - Training Loss: 0.7594 - Validation Loss: 0.8620 - Validation Accuracy: 70.00%\n",
            "New best validation accuracy (70.00%) achieved and model saved!\n",
            "Epoch [6/100] - Training Loss: 0.7067 - Validation Loss: 0.7986 - Validation Accuracy: 71.92%\n",
            "New best validation accuracy (71.92%) achieved and model saved!\n",
            "Epoch [7/100] - Training Loss: 0.6647 - Validation Loss: 0.7725 - Validation Accuracy: 73.64%\n",
            "New best validation accuracy (73.64%) achieved and model saved!\n",
            "Epoch [8/100] - Training Loss: 0.6296 - Validation Loss: 0.7553 - Validation Accuracy: 74.60%\n",
            "New best validation accuracy (74.60%) achieved and model saved!\n",
            "Epoch [9/100] - Training Loss: 0.5932 - Validation Loss: 0.6309 - Validation Accuracy: 78.64%\n",
            "New best validation accuracy (78.64%) achieved and model saved!\n",
            "Epoch [10/100] - Training Loss: 0.5593 - Validation Loss: 0.7489 - Validation Accuracy: 75.24%\n",
            "Epoch [11/100] - Training Loss: 0.5475 - Validation Loss: 0.6557 - Validation Accuracy: 77.16%\n",
            "Epoch [12/100] - Training Loss: 0.5199 - Validation Loss: 0.7095 - Validation Accuracy: 76.08%\n",
            "Epoch [13/100] - Training Loss: 0.5047 - Validation Loss: 0.6482 - Validation Accuracy: 78.06%\n",
            "Epoch [14/100] - Training Loss: 0.4861 - Validation Loss: 0.7605 - Validation Accuracy: 74.60%\n",
            "Epoch [15/100] - Training Loss: 0.4758 - Validation Loss: 0.6618 - Validation Accuracy: 77.98%\n",
            "Epoch 00015: reducing learning rate of group 0 to 2.0000e-04.\n",
            "Epoch [16/100] - Training Loss: 0.3682 - Validation Loss: 0.4758 - Validation Accuracy: 83.92%\n",
            "New best validation accuracy (83.92%) achieved and model saved!\n",
            "Epoch [17/100] - Training Loss: 0.3342 - Validation Loss: 0.4650 - Validation Accuracy: 84.14%\n",
            "New best validation accuracy (84.14%) achieved and model saved!\n",
            "Epoch [18/100] - Training Loss: 0.3233 - Validation Loss: 0.4436 - Validation Accuracy: 84.86%\n",
            "New best validation accuracy (84.86%) achieved and model saved!\n",
            "Epoch [19/100] - Training Loss: 0.3103 - Validation Loss: 0.4478 - Validation Accuracy: 85.00%\n",
            "New best validation accuracy (85.00%) achieved and model saved!\n",
            "Epoch [20/100] - Training Loss: 0.2992 - Validation Loss: 0.4477 - Validation Accuracy: 84.66%\n",
            "Epoch [21/100] - Training Loss: 0.2884 - Validation Loss: 0.4395 - Validation Accuracy: 85.50%\n",
            "New best validation accuracy (85.50%) achieved and model saved!\n",
            "Epoch [22/100] - Training Loss: 0.2829 - Validation Loss: 0.4433 - Validation Accuracy: 84.94%\n",
            "Epoch [23/100] - Training Loss: 0.2803 - Validation Loss: 0.4740 - Validation Accuracy: 84.76%\n",
            "Epoch [24/100] - Training Loss: 0.2704 - Validation Loss: 0.4693 - Validation Accuracy: 85.08%\n",
            "Epoch [25/100] - Training Loss: 0.2665 - Validation Loss: 0.4503 - Validation Accuracy: 84.60%\n",
            "Epoch [26/100] - Training Loss: 0.2548 - Validation Loss: 0.4519 - Validation Accuracy: 84.74%\n",
            "Epoch [27/100] - Training Loss: 0.2560 - Validation Loss: 0.4505 - Validation Accuracy: 85.16%\n",
            "Epoch 00027: reducing learning rate of group 0 to 4.0000e-05.\n",
            "Epoch [28/100] - Training Loss: 0.2172 - Validation Loss: 0.4195 - Validation Accuracy: 86.08%\n",
            "New best validation accuracy (86.08%) achieved and model saved!\n",
            "Epoch [29/100] - Training Loss: 0.2104 - Validation Loss: 0.4172 - Validation Accuracy: 86.26%\n",
            "New best validation accuracy (86.26%) achieved and model saved!\n",
            "Epoch [30/100] - Training Loss: 0.2024 - Validation Loss: 0.4190 - Validation Accuracy: 86.36%\n",
            "New best validation accuracy (86.36%) achieved and model saved!\n",
            "Epoch [31/100] - Training Loss: 0.2022 - Validation Loss: 0.4235 - Validation Accuracy: 86.36%\n",
            "Epoch [32/100] - Training Loss: 0.1970 - Validation Loss: 0.4352 - Validation Accuracy: 86.38%\n",
            "New best validation accuracy (86.38%) achieved and model saved!\n",
            "Epoch [33/100] - Training Loss: 0.1921 - Validation Loss: 0.4377 - Validation Accuracy: 86.24%\n",
            "Epoch [34/100] - Training Loss: 0.1943 - Validation Loss: 0.4198 - Validation Accuracy: 86.58%\n",
            "New best validation accuracy (86.58%) achieved and model saved!\n",
            "Epoch [35/100] - Training Loss: 0.1937 - Validation Loss: 0.4269 - Validation Accuracy: 86.78%\n",
            "Epoch 00035: reducing learning rate of group 0 to 8.0000e-06.\n",
            "New best validation accuracy (86.78%) achieved and model saved!\n",
            "Epoch [36/100] - Training Loss: 0.1824 - Validation Loss: 0.4204 - Validation Accuracy: 86.38%\n",
            "Epoch [37/100] - Training Loss: 0.1795 - Validation Loss: 0.4180 - Validation Accuracy: 86.76%\n",
            "Epoch [38/100] - Training Loss: 0.1816 - Validation Loss: 0.4069 - Validation Accuracy: 87.28%\n",
            "New best validation accuracy (87.28%) achieved and model saved!\n",
            "Epoch [39/100] - Training Loss: 0.1803 - Validation Loss: 0.4262 - Validation Accuracy: 86.44%\n",
            "Epoch [40/100] - Training Loss: 0.1786 - Validation Loss: 0.4305 - Validation Accuracy: 86.48%\n",
            "Epoch [41/100] - Training Loss: 0.1771 - Validation Loss: 0.4151 - Validation Accuracy: 86.98%\n",
            "Epoch [42/100] - Training Loss: 0.1759 - Validation Loss: 0.4171 - Validation Accuracy: 86.68%\n",
            "Epoch [43/100] - Training Loss: 0.1764 - Validation Loss: 0.4285 - Validation Accuracy: 87.14%\n",
            "Epoch [44/100] - Training Loss: 0.1736 - Validation Loss: 0.4369 - Validation Accuracy: 86.18%\n",
            "Epoch 00044: reducing learning rate of group 0 to 1.6000e-06.\n",
            "Epoch [45/100] - Training Loss: 0.1753 - Validation Loss: 0.4175 - Validation Accuracy: 86.72%\n",
            "Epoch [46/100] - Training Loss: 0.1752 - Validation Loss: 0.4177 - Validation Accuracy: 86.88%\n",
            "Epoch [47/100] - Training Loss: 0.1710 - Validation Loss: 0.4246 - Validation Accuracy: 86.76%\n",
            "Epoch [48/100] - Training Loss: 0.1740 - Validation Loss: 0.4107 - Validation Accuracy: 87.10%\n",
            "Early stopping!\n",
            "\n",
            "Training Complete!\n",
            "\n"
          ]
        }
      ]
    },
    {
      "cell_type": "code",
      "source": [
        "# Plotting training and validation loss\n",
        "plt.figure(figsize=(12, 4))\n",
        "plt.subplot(1, 2, 1)\n",
        "plt.plot(train_losses, label='Training Loss')\n",
        "plt.plot(val_losses, label='Validation Loss')\n",
        "plt.xlabel('Epochs')\n",
        "plt.ylabel('Loss')\n",
        "plt.legend()\n",
        "plt.title('Training & Validation Loss')"
      ],
      "metadata": {
        "colab": {
          "base_uri": "https://localhost:8080/",
          "height": 427
        },
        "id": "qBMkk34R-jk6",
        "outputId": "99be7d4c-68b8-48c7-e223-c5faea82b5f1"
      },
      "execution_count": null,
      "outputs": [
        {
          "output_type": "execute_result",
          "data": {
            "text/plain": [
              "Text(0.5, 1.0, 'Training & Validation Loss')"
            ]
          },
          "metadata": {},
          "execution_count": 12
        },
        {
          "output_type": "display_data",
          "data": {
            "text/plain": [
              "<Figure size 1200x400 with 1 Axes>"
            ],
            "image/png": "[encoded data removed]"
          },
          "metadata": {}
        }
      ]
    },
    {
      "cell_type": "code",
      "source": [
        "# Load the best model weights\n",
        "model_save_path = os.path.join(save_directory, 'retrain_resnet18.pth')\n",
        "model.load_state_dict(torch.load(model_save_path))\n",
        "model.to(device)\n",
        "\n",
        "\n",
        "# Testing\n",
        "model.eval()\n",
        "correct = 0\n",
        "total = 0\n",
        "with torch.no_grad():\n",
        "    for data in testloader:\n",
        "        images, labels = data[0].to(device), data[1].to(device)\n",
        "        outputs = model(images)\n",
        "        _, predicted = torch.max(outputs.data, 1)\n",
        "        total += labels.size(0)\n",
        "        correct += (predicted == labels).sum().item()\n",
        "\n",
        "test_accuracy = 100 * correct / total\n",
        "print(f\"Accuracy of the model on the 10000 test images: {test_accuracy:.2f}%\")"
      ],
      "metadata": {
        "colab": {
          "base_uri": "https://localhost:8080/"
        },
        "id": "tqxr00NAywVt",
        "outputId": "f3b6efc7-5fcb-4d5d-8096-b1f68ca95289"
      },
      "execution_count": null,
      "outputs": [
        {
          "output_type": "stream",
          "name": "stdout",
          "text": [
            "Accuracy of the model on the 10000 test images: 88.80%\n"
          ]
        }
      ]
    },
    {
      "cell_type": "code",
      "source": [
        "# Load the best model weights\n",
        "model_save_path = os.path.join(save_directory, 'retrain_resnet18.pth')\n",
        "model.load_state_dict(torch.load(model_save_path))\n",
        "model.to(device)"
      ],
      "metadata": {
        "colab": {
          "base_uri": "https://localhost:8080/"
        },
        "id": "WzTgpOKag7NP",
        "outputId": "06e725ce-4bac-447d-980c-0e6c16ba6a9d"
      },
      "execution_count": 9,
      "outputs": [
        {
          "output_type": "execute_result",
          "data": {
            "text/plain": [
              "CIFAR10ResNet18(\n",
              "  (resnet): ResNet(\n",
              "    (conv1): Conv2d(3, 64, kernel_size=(3, 3), stride=(1, 1), padding=(1, 1), bias=False)\n",
              "    (bn1): BatchNorm2d(64, eps=1e-05, momentum=0.1, affine=True, track_running_stats=True)\n",
              "    (relu): ReLU(inplace=True)\n",
              "    (maxpool): MaxPool2d(kernel_size=3, stride=2, padding=1, dilation=1, ceil_mode=False)\n",
              "    (layer1): Sequential(\n",
              "      (0): BasicBlock(\n",
              "        (conv1): Conv2d(64, 64, kernel_size=(3, 3), stride=(1, 1), padding=(1, 1), bias=False)\n",
              "        (bn1): BatchNorm2d(64, eps=1e-05, momentum=0.1, affine=True, track_running_stats=True)\n",
              "        (relu): ReLU(inplace=True)\n",
              "        (conv2): Conv2d(64, 64, kernel_size=(3, 3), stride=(1, 1), padding=(1, 1), bias=False)\n",
              "        (bn2): BatchNorm2d(64, eps=1e-05, momentum=0.1, affine=True, track_running_stats=True)\n",
              "      )\n",
              "      (1): BasicBlock(\n",
              "        (conv1): Conv2d(64, 64, kernel_size=(3, 3), stride=(1, 1), padding=(1, 1), bias=False)\n",
              "        (bn1): BatchNorm2d(64, eps=1e-05, momentum=0.1, affine=True, track_running_stats=True)\n",
              "        (relu): ReLU(inplace=True)\n",
              "        (conv2): Conv2d(64, 64, kernel_size=(3, 3), stride=(1, 1), padding=(1, 1), bias=False)\n",
              "        (bn2): BatchNorm2d(64, eps=1e-05, momentum=0.1, affine=True, track_running_stats=True)\n",
              "      )\n",
              "    )\n",
              "    (layer2): Sequential(\n",
              "      (0): BasicBlock(\n",
              "        (conv1): Conv2d(64, 128, kernel_size=(3, 3), stride=(2, 2), padding=(1, 1), bias=False)\n",
              "        (bn1): BatchNorm2d(128, eps=1e-05, momentum=0.1, affine=True, track_running_stats=True)\n",
              "        (relu): ReLU(inplace=True)\n",
              "        (conv2): Conv2d(128, 128, kernel_size=(3, 3), stride=(1, 1), padding=(1, 1), bias=False)\n",
              "        (bn2): BatchNorm2d(128, eps=1e-05, momentum=0.1, affine=True, track_running_stats=True)\n",
              "        (downsample): Sequential(\n",
              "          (0): Conv2d(64, 128, kernel_size=(1, 1), stride=(2, 2), bias=False)\n",
              "          (1): BatchNorm2d(128, eps=1e-05, momentum=0.1, affine=True, track_running_stats=True)\n",
              "        )\n",
              "      )\n",
              "      (1): BasicBlock(\n",
              "        (conv1): Conv2d(128, 128, kernel_size=(3, 3), stride=(1, 1), padding=(1, 1), bias=False)\n",
              "        (bn1): BatchNorm2d(128, eps=1e-05, momentum=0.1, affine=True, track_running_stats=True)\n",
              "        (relu): ReLU(inplace=True)\n",
              "        (conv2): Conv2d(128, 128, kernel_size=(3, 3), stride=(1, 1), padding=(1, 1), bias=False)\n",
              "        (bn2): BatchNorm2d(128, eps=1e-05, momentum=0.1, affine=True, track_running_stats=True)\n",
              "      )\n",
              "    )\n",
              "    (layer3): Sequential(\n",
              "      (0): BasicBlock(\n",
              "        (conv1): Conv2d(128, 256, kernel_size=(3, 3), stride=(2, 2), padding=(1, 1), bias=False)\n",
              "        (bn1): BatchNorm2d(256, eps=1e-05, momentum=0.1, affine=True, track_running_stats=True)\n",
              "        (relu): ReLU(inplace=True)\n",
              "        (conv2): Conv2d(256, 256, kernel_size=(3, 3), stride=(1, 1), padding=(1, 1), bias=False)\n",
              "        (bn2): BatchNorm2d(256, eps=1e-05, momentum=0.1, affine=True, track_running_stats=True)\n",
              "        (downsample): Sequential(\n",
              "          (0): Conv2d(128, 256, kernel_size=(1, 1), stride=(2, 2), bias=False)\n",
              "          (1): BatchNorm2d(256, eps=1e-05, momentum=0.1, affine=True, track_running_stats=True)\n",
              "        )\n",
              "      )\n",
              "      (1): BasicBlock(\n",
              "        (conv1): Conv2d(256, 256, kernel_size=(3, 3), stride=(1, 1), padding=(1, 1), bias=False)\n",
              "        (bn1): BatchNorm2d(256, eps=1e-05, momentum=0.1, affine=True, track_running_stats=True)\n",
              "        (relu): ReLU(inplace=True)\n",
              "        (conv2): Conv2d(256, 256, kernel_size=(3, 3), stride=(1, 1), padding=(1, 1), bias=False)\n",
              "        (bn2): BatchNorm2d(256, eps=1e-05, momentum=0.1, affine=True, track_running_stats=True)\n",
              "      )\n",
              "    )\n",
              "    (layer4): Sequential(\n",
              "      (0): BasicBlock(\n",
              "        (conv1): Conv2d(256, 512, kernel_size=(3, 3), stride=(2, 2), padding=(1, 1), bias=False)\n",
              "        (bn1): BatchNorm2d(512, eps=1e-05, momentum=0.1, affine=True, track_running_stats=True)\n",
              "        (relu): ReLU(inplace=True)\n",
              "        (conv2): Conv2d(512, 512, kernel_size=(3, 3), stride=(1, 1), padding=(1, 1), bias=False)\n",
              "        (bn2): BatchNorm2d(512, eps=1e-05, momentum=0.1, affine=True, track_running_stats=True)\n",
              "        (downsample): Sequential(\n",
              "          (0): Conv2d(256, 512, kernel_size=(1, 1), stride=(2, 2), bias=False)\n",
              "          (1): BatchNorm2d(512, eps=1e-05, momentum=0.1, affine=True, track_running_stats=True)\n",
              "        )\n",
              "      )\n",
              "      (1): BasicBlock(\n",
              "        (conv1): Conv2d(512, 512, kernel_size=(3, 3), stride=(1, 1), padding=(1, 1), bias=False)\n",
              "        (bn1): BatchNorm2d(512, eps=1e-05, momentum=0.1, affine=True, track_running_stats=True)\n",
              "        (relu): ReLU(inplace=True)\n",
              "        (conv2): Conv2d(512, 512, kernel_size=(3, 3), stride=(1, 1), padding=(1, 1), bias=False)\n",
              "        (bn2): BatchNorm2d(512, eps=1e-05, momentum=0.1, affine=True, track_running_stats=True)\n",
              "      )\n",
              "    )\n",
              "    (avgpool): AdaptiveAvgPool2d(output_size=(1, 1))\n",
              "    (fc): Linear(in_features=512, out_features=10, bias=True)\n",
              "  )\n",
              ")"
            ]
          },
          "metadata": {},
          "execution_count": 9
        }
      ]
    },
    {
      "cell_type": "code",
      "source": [
        "mean = torch.tensor([0.4914, 0.4822, 0.4465]).to(device)\n",
        "std_dev = torch.tensor([0.2470, 0.2435, 0.2616]).to(device)\n",
        "\n",
        "def fgsm_attack(image, epsilon, data_grad):\n",
        "    \"\"\"\n",
        "    Generate adversarial example using Fast Gradient Sign Method.\n",
        "    \"\"\"\n",
        "    # Collect the element-wise sign of the data gradient\n",
        "    sign_data_grad = data_grad.sign()\n",
        "    # Create the perturbed image\n",
        "    perturbed_image = image + epsilon * sign_data_grad\n",
        "    # Clip the perturbed image to ensure values are in [0,1]\n",
        "    for channel in range(3):\n",
        "      perturbed_image[:, channel] = torch.clamp(perturbed_image[:, channel], (0-mean[channel]) / std_dev[channel], (1-mean[channel]) / std_dev[channel])\n",
        "\n",
        "    return perturbed_image\n",
        "\n",
        "def test_adversarial_robustness(model, testloader, device, epsilon_values=[0.01, 0.05, 0.1]):\n",
        "    \"\"\"\n",
        "    Test the model's robustness against FGSM adversarial attack for a list of epsilon values.\n",
        "    \"\"\"\n",
        "    accuracies = {}\n",
        "    examples = []\n",
        "\n",
        "    # Ensure model is in evaluation mode\n",
        "    model.eval()\n",
        "\n",
        "    for epsilon in epsilon_values:\n",
        "        adv_correct = 0\n",
        "        adv_examples = []\n",
        "\n",
        "        for data, target in testloader:\n",
        "            data, target = data.to(device), target.to(device)\n",
        "\n",
        "            # Set requires_grad attribute of tensor for the attack\n",
        "            data.requires_grad = True\n",
        "\n",
        "            # Forward pass\n",
        "            output = model(data)\n",
        "            init_pred = output.max(1)[1]  # get the index of the max log-probability\n",
        "\n",
        "            # Create a mask for data samples that were initially correctly classified\n",
        "            correct_mask = init_pred == target\n",
        "\n",
        "            # If no predictions in the batch are correct, continue to next batch\n",
        "            if not correct_mask.any():\n",
        "                continue\n",
        "\n",
        "            # Calculate the loss only for correctly predicted samples\n",
        "            loss = F.cross_entropy(output[correct_mask], target[correct_mask])\n",
        "\n",
        "            # Zero all existing gradients\n",
        "            model.zero_grad()\n",
        "\n",
        "            # Calculate gradients of model in backward pass\n",
        "            loss.backward()\n",
        "\n",
        "            # Collect data gradient\n",
        "            data_grad = data.grad.data\n",
        "\n",
        "            # Call FGSM Attack only on correctly classified samples\n",
        "            perturbed_data = fgsm_attack(data[correct_mask], epsilon, data_grad[correct_mask])\n",
        "\n",
        "            # Re-classify the perturbed images\n",
        "            output = model(perturbed_data)\n",
        "\n",
        "            # Check for success\n",
        "            final_pred = output.max(1)[1]\n",
        "            adv_correct += (final_pred == target[correct_mask]).sum().item()\n",
        "\n",
        "            # Save some adversarial examples for visualization later\n",
        "            if len(adv_examples) < 5:\n",
        "                for i, (perturbed_sample, orig_pred, true_target) in enumerate(zip(perturbed_data, init_pred[correct_mask], target[correct_mask])):\n",
        "                    final_prediction = final_pred[i]\n",
        "                    if orig_pred != final_prediction:\n",
        "                        adv_ex = perturbed_sample.squeeze().detach().cpu().numpy()\n",
        "                        adv_examples.append((orig_pred.item(), final_prediction.item(), adv_ex))\n",
        "\n",
        "        # Calculate final accuracy for this epsilon\n",
        "        adv_acc = adv_correct / float(len(testloader.dataset))\n",
        "        print(f\"Epsilon: {epsilon}\\tTest Accuracy = {adv_correct} / {len(testloader.dataset)} = {adv_acc}\")\n",
        "\n",
        "        accuracies[epsilon] = adv_acc\n",
        "        examples.append(adv_examples)\n",
        "\n",
        "    return accuracies, examples\n"
      ],
      "metadata": {
        "id": "lTBubFCvgv6I"
      },
      "execution_count": 13,
      "outputs": []
    },
    {
      "cell_type": "code",
      "source": [
        "# Evaluate adversarial robustness\n",
        "accuracies, examples = test_adversarial_robustness(model, testloader, device)"
      ],
      "metadata": {
        "colab": {
          "base_uri": "https://localhost:8080/"
        },
        "id": "nZi6y101gyAz",
        "outputId": "9c7df2ef-1abb-469f-fa5d-0eb2d9b067a0"
      },
      "execution_count": 14,
      "outputs": [
        {
          "output_type": "stream",
          "name": "stdout",
          "text": [
            "Epsilon: 0.01\tTest Accuracy = 7109 / 10000 = 0.7109\n",
            "Epsilon: 0.05\tTest Accuracy = 1997 / 10000 = 0.1997\n",
            "Epsilon: 0.1\tTest Accuracy = 560 / 10000 = 0.056\n"
          ]
        }
      ]
    }
  ]
}